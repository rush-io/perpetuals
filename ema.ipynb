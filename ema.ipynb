{
 "cells": [
  {
   "cell_type": "code",
   "execution_count": 30,
   "metadata": {},
   "outputs": [],
   "source": [
    "from datetime import datetime, timezone\n",
    "import orjson\n",
    "import aiohttp\n",
    "import asyncio\n",
    "import pandas as pd\n",
    "import time\n",
    "\n",
    "START_TIME = int(datetime(year=2021, month=11, day=1, hour=0, minute=0).timestamp())\n",
    "END_TIME = int(datetime(year=2021, month=11, day=18, hour=0, minute=0).timestamp())\n",
    "\n",
    "async def get(url):\n",
    "\tasync with aiohttp.ClientSession(json_serialize=orjson.dumps) as session:\n",
    "\t\tasync with session.get(url) as resp:\n",
    "\t\t\tdata = await resp.json(loads=orjson.loads)\n",
    "\t\t\treturn data\n",
    "   \n",
    "async def determine_tuples(start_time, end_time, granularity=15):\n",
    "    # return array of times to multiprocess / async.gather\n",
    "    tups = []\n",
    "    # max return len is 1500 samples\n",
    "    while end_time - start_time > 0:\n",
    "        t = (end_time-(1499*15),end_time)\n",
    "        \n",
    "        tups.append(t)\n",
    "        end_time -= 1500\n",
    "\n",
    "    return tups\n",
    "\n",
    "async def aggregate_klines(underlying, granularity, start_time, end_time,  count):\n",
    "\n",
    "    aggregate = pd.DataFrame(columns=['startTime', 'time','open', 'high', 'low', 'close', 'volume'])\n",
    "    step = 0\n",
    "    \n",
    "    # get current timestep to the nearest round minute to align with ftx candle data aggregation (i think)\n",
    "    # to give us a starting timestep \n",
    "\n",
    "    current_utc_timestamp = time.time()\n",
    "\n",
    "    most_recent_candle = current_utc_timestamp - (current_utc_timestamp % granularity)\n",
    "\n",
    "    # instead of calculating the remaining timesteps pre-1st request, just send the request, count how many \n",
    "    # instances of OHLC data we get back, deduce that from count (its usually 1500), and run it back turbo.\n",
    "\n",
    "    while aggregate.shape[0] < count:\n",
    "        if step == 0:            \n",
    "            data = await get(url = f\"https://ftx.com/api/markets/{underlying}/candles?resolution={granularity}&end_time={most_recent_candle}\")\n",
    "            print(data['result'])\n",
    "            break\n",
    "    \n",
    "        else:\n",
    "            end = int(most_recent_candle - (granularity * step))\n",
    "            data = await get(url=f\"https://ftx.com/api/markets/{underlying}/candles?resolution={granularity}&end_time={end}\") \n",
    "\n",
    "        data = data['result'][::-1]\n",
    "        \n",
    "        current = pd.DataFrame(data=data)\n",
    "        aggregate = aggregate.append(current, ignore_index=True)\n",
    "        step += len(data)\n",
    "              \n",
    "    # check if current step is greater than count, and trim off excess data.\n",
    "        if step > count:\n",
    "            aggregate = aggregate.iloc[:count+1]\n",
    "                  \n",
    "    return aggregate\n",
    "\n",
    "tups = await determine_tuples(START_TIME, END_TIME,granularity=15)\n",
    "# await aggregate_klines(underlying='BTC-PERP', granularity=60, count=count)"
   ]
  },
  {
   "cell_type": "code",
   "execution_count": 35,
   "metadata": {},
   "outputs": [
    {
     "name": "stdout",
     "output_type": "stream",
     "text": [
      "2021-11-17 22:45:15+00:00\n",
      "2021-11-18 05:00:00+00:00\n",
      "1500\n",
      "2021-11-17T22:45:15+00:00\n",
      "2021-11-18T05:00:00+00:00\n"
     ]
    }
   ],
   "source": [
    "import pytz\n",
    "\n",
    "# check to ensure data received is expected timeframe\n",
    "print(datetime.fromtimestamp(tups[0][0], tz=pytz.utc))\n",
    "print(datetime.fromtimestamp(tups[0][1], tz=pytz.utc))\n",
    "\n",
    "data = await get(url = f\"https://ftx.com/api/markets/BTC-PERP/candles?resolution=15&start_time={tups[0][0]}&end_time={tups[0][1]}\")\n",
    "\n",
    "print(len(data['result']))\n",
    "print(data['result'][0]['startTime'])\n",
    "print(data['result'][-1]['startTime'])\n"
   ]
  },
  {
   "cell_type": "code",
   "execution_count": 17,
   "metadata": {},
   "outputs": [
    {
     "ename": "AssertionError",
     "evalue": "",
     "output_type": "error",
     "traceback": [
      "\u001b[0;31m---------------------------------------------------------------------------\u001b[0m",
      "\u001b[0;31mAssertionError\u001b[0m                            Traceback (most recent call last)",
      "\u001b[0;32m/var/folders/wm/94cl9j_960q8yv0nwmv53xzw0000gn/T/ipykernel_7997/972840774.py\u001b[0m in \u001b[0;36m<module>\u001b[0;34m\u001b[0m\n\u001b[1;32m      2\u001b[0m \u001b[0mb\u001b[0m \u001b[0;34m=\u001b[0m \u001b[0;36m1637211600\u001b[0m\u001b[0;34m\u001b[0m\u001b[0;34m\u001b[0m\u001b[0m\n\u001b[1;32m      3\u001b[0m \u001b[0;34m\u001b[0m\u001b[0m\n\u001b[0;32m----> 4\u001b[0;31m \u001b[0;32massert\u001b[0m \u001b[0mb\u001b[0m \u001b[0;34m-\u001b[0m \u001b[0ma\u001b[0m \u001b[0;34m+\u001b[0m \u001b[0;34m(\u001b[0m\u001b[0;36m1500\u001b[0m \u001b[0;34m*\u001b[0m \u001b[0;36m15\u001b[0m\u001b[0;34m)\u001b[0m \u001b[0;34m==\u001b[0m \u001b[0;36m0\u001b[0m\u001b[0;34m\u001b[0m\u001b[0;34m\u001b[0m\u001b[0m\n\u001b[0m\u001b[1;32m      5\u001b[0m \u001b[0;34m\u001b[0m\u001b[0m\n\u001b[1;32m      6\u001b[0m \u001b[0;31m# print(datetime.fromtimestamp(a))\u001b[0m\u001b[0;34m\u001b[0m\u001b[0;34m\u001b[0m\u001b[0m\n",
      "\u001b[0;31mAssertionError\u001b[0m: "
     ]
    }
   ],
   "source": [
    "a = 1637189100\n",
    "b = 1637211600\n",
    "\n",
    "assert b - a + (1500 * 15) == 0 \n",
    "\n",
    "# print(datetime.fromtimestamp(a))\n",
    "# print(datetime.fromtimestamp(b))\n"
   ]
  },
  {
   "cell_type": "code",
   "execution_count": 13,
   "metadata": {},
   "outputs": [
    {
     "data": {
      "text/plain": [
       "100"
      ]
     },
     "execution_count": 13,
     "metadata": {},
     "output_type": "execute_result"
    }
   ],
   "source": [
    "25*4\n",
    "\n",
    "# print(tups)"
   ]
  }
 ],
 "metadata": {
  "interpreter": {
   "hash": "949777d72b0d2535278d3dc13498b2535136f6dfe0678499012e853ee9abcab1"
  },
  "kernelspec": {
   "display_name": "Python 3.9.8 64-bit",
   "language": "python",
   "name": "python3"
  },
  "language_info": {
   "codemirror_mode": {
    "name": "ipython",
    "version": 3
   },
   "file_extension": ".py",
   "mimetype": "text/x-python",
   "name": "python",
   "nbconvert_exporter": "python",
   "pygments_lexer": "ipython3",
   "version": "3.9.8"
  },
  "orig_nbformat": 4
 },
 "nbformat": 4,
 "nbformat_minor": 2
}
